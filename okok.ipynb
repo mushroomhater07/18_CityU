{
 "cells": [
  {
   "cell_type": "code",
   "execution_count": 1,
   "metadata": {},
   "outputs": [],
   "source": [
    "a=2"
   ]
  },
  {
   "cell_type": "code",
   "execution_count": 18,
   "metadata": {
    "scrolled": true
   },
   "outputs": [],
   "source": [
    "flight={\"Flight\":[439,921,114],\n",
    "    \"Date\":[\"12/11/2017\",\"12/11/2017\",\"12/12/2017\"]}"
   ]
  },
  {
   "cell_type": "code",
   "execution_count": 14,
   "metadata": {},
   "outputs": [
    {
     "data": {
      "text/plain": [
       "{'Flight': [439, 921, 114], 'Date': ['hj', 'bj', 'lj']}"
      ]
     },
     "execution_count": 14,
     "metadata": {},
     "output_type": "execute_result"
    }
   ],
   "source": [
    "flight"
   ]
  },
  {
   "cell_type": "code",
   "execution_count": 20,
   "metadata": {},
   "outputs": [],
   "source": [
    "import pandas as pd"
   ]
  },
  {
   "cell_type": "code",
   "execution_count": 21,
   "metadata": {},
   "outputs": [],
   "source": [
    "ftframe=pd.DataFrame(flight)"
   ]
  },
  {
   "cell_type": "code",
   "execution_count": 23,
   "metadata": {},
   "outputs": [],
   "source": [
    "ftframe.index=[\"F123D11\",\"F345D11\",\"F123D12\"]"
   ]
  },
  {
   "cell_type": "code",
   "execution_count": 24,
   "metadata": {},
   "outputs": [
    {
     "data": {
      "text/html": [
       "<div>\n",
       "<style scoped>\n",
       "    .dataframe tbody tr th:only-of-type {\n",
       "        vertical-align: middle;\n",
       "    }\n",
       "\n",
       "    .dataframe tbody tr th {\n",
       "        vertical-align: top;\n",
       "    }\n",
       "\n",
       "    .dataframe thead th {\n",
       "        text-align: right;\n",
       "    }\n",
       "</style>\n",
       "<table border=\"1\" class=\"dataframe\">\n",
       "  <thead>\n",
       "    <tr style=\"text-align: right;\">\n",
       "      <th></th>\n",
       "      <th>Flight</th>\n",
       "      <th>Date</th>\n",
       "    </tr>\n",
       "  </thead>\n",
       "  <tbody>\n",
       "    <tr>\n",
       "      <th>F123D11</th>\n",
       "      <td>439</td>\n",
       "      <td>12/11/2017</td>\n",
       "    </tr>\n",
       "    <tr>\n",
       "      <th>F345D11</th>\n",
       "      <td>921</td>\n",
       "      <td>12/11/2017</td>\n",
       "    </tr>\n",
       "    <tr>\n",
       "      <th>F123D12</th>\n",
       "      <td>114</td>\n",
       "      <td>12/12/2017</td>\n",
       "    </tr>\n",
       "  </tbody>\n",
       "</table>\n",
       "</div>"
      ],
      "text/plain": [
       "         Flight        Date\n",
       "F123D11     439  12/11/2017\n",
       "F345D11     921  12/11/2017\n",
       "F123D12     114  12/12/2017"
      ]
     },
     "execution_count": 24,
     "metadata": {},
     "output_type": "execute_result"
    }
   ],
   "source": [
    "ftframe"
   ]
  },
  {
   "cell_type": "code",
   "execution_count": 25,
   "metadata": {},
   "outputs": [],
   "source": [
    "ftframe2=pd.read_csv(\"C:\\\\Users\\\\cbvisitor4\\\\Downloads\\\\dataset\\\\flight.csv\")"
   ]
  },
  {
   "cell_type": "code",
   "execution_count": 26,
   "metadata": {},
   "outputs": [
    {
     "data": {
      "text/html": [
       "<div>\n",
       "<style scoped>\n",
       "    .dataframe tbody tr th:only-of-type {\n",
       "        vertical-align: middle;\n",
       "    }\n",
       "\n",
       "    .dataframe tbody tr th {\n",
       "        vertical-align: top;\n",
       "    }\n",
       "\n",
       "    .dataframe thead th {\n",
       "        text-align: right;\n",
       "    }\n",
       "</style>\n",
       "<table border=\"1\" class=\"dataframe\">\n",
       "  <thead>\n",
       "    <tr style=\"text-align: right;\">\n",
       "      <th></th>\n",
       "      <th>Unnamed: 0</th>\n",
       "      <th>Flight</th>\n",
       "      <th>Date</th>\n",
       "      <th>Dest</th>\n",
       "      <th>FirstClass</th>\n",
       "      <th>Economy</th>\n",
       "    </tr>\n",
       "  </thead>\n",
       "  <tbody>\n",
       "    <tr>\n",
       "      <th>0</th>\n",
       "      <td>F439D11</td>\n",
       "      <td>439</td>\n",
       "      <td>12/11/2017</td>\n",
       "      <td>LAX</td>\n",
       "      <td>20</td>\n",
       "      <td>137</td>\n",
       "    </tr>\n",
       "    <tr>\n",
       "      <th>1</th>\n",
       "      <td>F921D11</td>\n",
       "      <td>921</td>\n",
       "      <td>12/11/2017</td>\n",
       "      <td>DFW</td>\n",
       "      <td>20</td>\n",
       "      <td>131</td>\n",
       "    </tr>\n",
       "    <tr>\n",
       "      <th>2</th>\n",
       "      <td>F114D12</td>\n",
       "      <td>114</td>\n",
       "      <td>12/12/2017</td>\n",
       "      <td>LAX</td>\n",
       "      <td>15</td>\n",
       "      <td>170</td>\n",
       "    </tr>\n",
       "    <tr>\n",
       "      <th>3</th>\n",
       "      <td>F982D12</td>\n",
       "      <td>982</td>\n",
       "      <td>12/12/2017</td>\n",
       "      <td>dfw</td>\n",
       "      <td>5</td>\n",
       "      <td>85</td>\n",
       "    </tr>\n",
       "    <tr>\n",
       "      <th>4</th>\n",
       "      <td>F439D13</td>\n",
       "      <td>439</td>\n",
       "      <td>12/13/2017</td>\n",
       "      <td>LAX</td>\n",
       "      <td>14</td>\n",
       "      <td>196</td>\n",
       "    </tr>\n",
       "    <tr>\n",
       "      <th>5</th>\n",
       "      <td>F982D13</td>\n",
       "      <td>982</td>\n",
       "      <td>12/13/2017</td>\n",
       "      <td>DFW</td>\n",
       "      <td>15</td>\n",
       "      <td>116</td>\n",
       "    </tr>\n",
       "    <tr>\n",
       "      <th>6</th>\n",
       "      <td>F431D14</td>\n",
       "      <td>431</td>\n",
       "      <td>12/14/2017</td>\n",
       "      <td>LaX</td>\n",
       "      <td>17</td>\n",
       "      <td>166</td>\n",
       "    </tr>\n",
       "    <tr>\n",
       "      <th>7</th>\n",
       "      <td>F982D14</td>\n",
       "      <td>982</td>\n",
       "      <td>12/14/2017</td>\n",
       "      <td>DFW</td>\n",
       "      <td>7</td>\n",
       "      <td>88</td>\n",
       "    </tr>\n",
       "    <tr>\n",
       "      <th>8</th>\n",
       "      <td>F114D15</td>\n",
       "      <td>114</td>\n",
       "      <td>12/15/2017</td>\n",
       "      <td>LAX</td>\n",
       "      <td>12</td>\n",
       "      <td>187</td>\n",
       "    </tr>\n",
       "    <tr>\n",
       "      <th>9</th>\n",
       "      <td>F982D15</td>\n",
       "      <td>982</td>\n",
       "      <td>12/15/2017</td>\n",
       "      <td>DFW</td>\n",
       "      <td>14</td>\n",
       "      <td>31</td>\n",
       "    </tr>\n",
       "  </tbody>\n",
       "</table>\n",
       "</div>"
      ],
      "text/plain": [
       "  Unnamed: 0  Flight        Date Dest  FirstClass  Economy\n",
       "0    F439D11     439  12/11/2017  LAX          20      137\n",
       "1    F921D11     921  12/11/2017  DFW          20      131\n",
       "2    F114D12     114  12/12/2017  LAX          15      170\n",
       "3    F982D12     982  12/12/2017  dfw           5       85\n",
       "4    F439D13     439  12/13/2017  LAX          14      196\n",
       "5    F982D13     982  12/13/2017  DFW          15      116\n",
       "6    F431D14     431  12/14/2017  LaX          17      166\n",
       "7    F982D14     982  12/14/2017  DFW           7       88\n",
       "8    F114D15     114  12/15/2017  LAX          12      187\n",
       "9    F982D15     982  12/15/2017  DFW          14       31"
      ]
     },
     "execution_count": 26,
     "metadata": {},
     "output_type": "execute_result"
    }
   ],
   "source": [
    "ftframe2"
   ]
  },
  {
   "cell_type": "code",
   "execution_count": 27,
   "metadata": {},
   "outputs": [],
   "source": [
    "ftframe2=pd.read_csv(\"C:\\\\Users\\\\cbvisitor4\\\\Downloads\\\\dataset\\\\flight.csv\",index_col=0)"
   ]
  },
  {
   "cell_type": "code",
   "execution_count": 28,
   "metadata": {},
   "outputs": [
    {
     "data": {
      "text/html": [
       "<div>\n",
       "<style scoped>\n",
       "    .dataframe tbody tr th:only-of-type {\n",
       "        vertical-align: middle;\n",
       "    }\n",
       "\n",
       "    .dataframe tbody tr th {\n",
       "        vertical-align: top;\n",
       "    }\n",
       "\n",
       "    .dataframe thead th {\n",
       "        text-align: right;\n",
       "    }\n",
       "</style>\n",
       "<table border=\"1\" class=\"dataframe\">\n",
       "  <thead>\n",
       "    <tr style=\"text-align: right;\">\n",
       "      <th></th>\n",
       "      <th>Flight</th>\n",
       "      <th>Date</th>\n",
       "      <th>Dest</th>\n",
       "      <th>FirstClass</th>\n",
       "      <th>Economy</th>\n",
       "    </tr>\n",
       "  </thead>\n",
       "  <tbody>\n",
       "    <tr>\n",
       "      <th>F439D11</th>\n",
       "      <td>439</td>\n",
       "      <td>12/11/2017</td>\n",
       "      <td>LAX</td>\n",
       "      <td>20</td>\n",
       "      <td>137</td>\n",
       "    </tr>\n",
       "    <tr>\n",
       "      <th>F921D11</th>\n",
       "      <td>921</td>\n",
       "      <td>12/11/2017</td>\n",
       "      <td>DFW</td>\n",
       "      <td>20</td>\n",
       "      <td>131</td>\n",
       "    </tr>\n",
       "    <tr>\n",
       "      <th>F114D12</th>\n",
       "      <td>114</td>\n",
       "      <td>12/12/2017</td>\n",
       "      <td>LAX</td>\n",
       "      <td>15</td>\n",
       "      <td>170</td>\n",
       "    </tr>\n",
       "    <tr>\n",
       "      <th>F982D12</th>\n",
       "      <td>982</td>\n",
       "      <td>12/12/2017</td>\n",
       "      <td>dfw</td>\n",
       "      <td>5</td>\n",
       "      <td>85</td>\n",
       "    </tr>\n",
       "    <tr>\n",
       "      <th>F439D13</th>\n",
       "      <td>439</td>\n",
       "      <td>12/13/2017</td>\n",
       "      <td>LAX</td>\n",
       "      <td>14</td>\n",
       "      <td>196</td>\n",
       "    </tr>\n",
       "    <tr>\n",
       "      <th>F982D13</th>\n",
       "      <td>982</td>\n",
       "      <td>12/13/2017</td>\n",
       "      <td>DFW</td>\n",
       "      <td>15</td>\n",
       "      <td>116</td>\n",
       "    </tr>\n",
       "    <tr>\n",
       "      <th>F431D14</th>\n",
       "      <td>431</td>\n",
       "      <td>12/14/2017</td>\n",
       "      <td>LaX</td>\n",
       "      <td>17</td>\n",
       "      <td>166</td>\n",
       "    </tr>\n",
       "    <tr>\n",
       "      <th>F982D14</th>\n",
       "      <td>982</td>\n",
       "      <td>12/14/2017</td>\n",
       "      <td>DFW</td>\n",
       "      <td>7</td>\n",
       "      <td>88</td>\n",
       "    </tr>\n",
       "    <tr>\n",
       "      <th>F114D15</th>\n",
       "      <td>114</td>\n",
       "      <td>12/15/2017</td>\n",
       "      <td>LAX</td>\n",
       "      <td>12</td>\n",
       "      <td>187</td>\n",
       "    </tr>\n",
       "    <tr>\n",
       "      <th>F982D15</th>\n",
       "      <td>982</td>\n",
       "      <td>12/15/2017</td>\n",
       "      <td>DFW</td>\n",
       "      <td>14</td>\n",
       "      <td>31</td>\n",
       "    </tr>\n",
       "  </tbody>\n",
       "</table>\n",
       "</div>"
      ],
      "text/plain": [
       "         Flight        Date Dest  FirstClass  Economy\n",
       "F439D11     439  12/11/2017  LAX          20      137\n",
       "F921D11     921  12/11/2017  DFW          20      131\n",
       "F114D12     114  12/12/2017  LAX          15      170\n",
       "F982D12     982  12/12/2017  dfw           5       85\n",
       "F439D13     439  12/13/2017  LAX          14      196\n",
       "F982D13     982  12/13/2017  DFW          15      116\n",
       "F431D14     431  12/14/2017  LaX          17      166\n",
       "F982D14     982  12/14/2017  DFW           7       88\n",
       "F114D15     114  12/15/2017  LAX          12      187\n",
       "F982D15     982  12/15/2017  DFW          14       31"
      ]
     },
     "execution_count": 28,
     "metadata": {},
     "output_type": "execute_result"
    }
   ],
   "source": [
    "ftframe2"
   ]
  },
  {
   "cell_type": "code",
   "execution_count": 29,
   "metadata": {},
   "outputs": [
    {
     "data": {
      "text/plain": [
       "F439D11    439\n",
       "F921D11    921\n",
       "F114D12    114\n",
       "F982D12    982\n",
       "F439D13    439\n",
       "F982D13    982\n",
       "F431D14    431\n",
       "F982D14    982\n",
       "F114D15    114\n",
       "F982D15    982\n",
       "Name: Flight, dtype: int64"
      ]
     },
     "execution_count": 29,
     "metadata": {},
     "output_type": "execute_result"
    }
   ],
   "source": [
    "ftframe2[\"Flight\"]"
   ]
  },
  {
   "cell_type": "code",
   "execution_count": 30,
   "metadata": {},
   "outputs": [
    {
     "data": {
      "text/plain": [
       "pandas.core.series.Series"
      ]
     },
     "execution_count": 30,
     "metadata": {},
     "output_type": "execute_result"
    }
   ],
   "source": [
    "type(ftframe2[\"Flight\"])"
   ]
  },
  {
   "cell_type": "code",
   "execution_count": 31,
   "metadata": {},
   "outputs": [
    {
     "data": {
      "text/plain": [
       "pandas.core.frame.DataFrame"
      ]
     },
     "execution_count": 31,
     "metadata": {},
     "output_type": "execute_result"
    }
   ],
   "source": [
    "type(ftframe2[[\"Flight\"]])"
   ]
  },
  {
   "cell_type": "code",
   "execution_count": 32,
   "metadata": {},
   "outputs": [
    {
     "data": {
      "text/html": [
       "<div>\n",
       "<style scoped>\n",
       "    .dataframe tbody tr th:only-of-type {\n",
       "        vertical-align: middle;\n",
       "    }\n",
       "\n",
       "    .dataframe tbody tr th {\n",
       "        vertical-align: top;\n",
       "    }\n",
       "\n",
       "    .dataframe thead th {\n",
       "        text-align: right;\n",
       "    }\n",
       "</style>\n",
       "<table border=\"1\" class=\"dataframe\">\n",
       "  <thead>\n",
       "    <tr style=\"text-align: right;\">\n",
       "      <th></th>\n",
       "      <th>Flight</th>\n",
       "      <th>Dest</th>\n",
       "    </tr>\n",
       "  </thead>\n",
       "  <tbody>\n",
       "    <tr>\n",
       "      <th>F439D11</th>\n",
       "      <td>439</td>\n",
       "      <td>LAX</td>\n",
       "    </tr>\n",
       "    <tr>\n",
       "      <th>F921D11</th>\n",
       "      <td>921</td>\n",
       "      <td>DFW</td>\n",
       "    </tr>\n",
       "    <tr>\n",
       "      <th>F114D12</th>\n",
       "      <td>114</td>\n",
       "      <td>LAX</td>\n",
       "    </tr>\n",
       "    <tr>\n",
       "      <th>F982D12</th>\n",
       "      <td>982</td>\n",
       "      <td>dfw</td>\n",
       "    </tr>\n",
       "    <tr>\n",
       "      <th>F439D13</th>\n",
       "      <td>439</td>\n",
       "      <td>LAX</td>\n",
       "    </tr>\n",
       "    <tr>\n",
       "      <th>F982D13</th>\n",
       "      <td>982</td>\n",
       "      <td>DFW</td>\n",
       "    </tr>\n",
       "    <tr>\n",
       "      <th>F431D14</th>\n",
       "      <td>431</td>\n",
       "      <td>LaX</td>\n",
       "    </tr>\n",
       "    <tr>\n",
       "      <th>F982D14</th>\n",
       "      <td>982</td>\n",
       "      <td>DFW</td>\n",
       "    </tr>\n",
       "    <tr>\n",
       "      <th>F114D15</th>\n",
       "      <td>114</td>\n",
       "      <td>LAX</td>\n",
       "    </tr>\n",
       "    <tr>\n",
       "      <th>F982D15</th>\n",
       "      <td>982</td>\n",
       "      <td>DFW</td>\n",
       "    </tr>\n",
       "  </tbody>\n",
       "</table>\n",
       "</div>"
      ],
      "text/plain": [
       "         Flight Dest\n",
       "F439D11     439  LAX\n",
       "F921D11     921  DFW\n",
       "F114D12     114  LAX\n",
       "F982D12     982  dfw\n",
       "F439D13     439  LAX\n",
       "F982D13     982  DFW\n",
       "F431D14     431  LaX\n",
       "F982D14     982  DFW\n",
       "F114D15     114  LAX\n",
       "F982D15     982  DFW"
      ]
     },
     "execution_count": 32,
     "metadata": {},
     "output_type": "execute_result"
    }
   ],
   "source": [
    "ftframe2[[\"Flight\",\"Dest\"]]"
   ]
  },
  {
   "cell_type": "code",
   "execution_count": 33,
   "metadata": {},
   "outputs": [
    {
     "data": {
      "text/html": [
       "<div>\n",
       "<style scoped>\n",
       "    .dataframe tbody tr th:only-of-type {\n",
       "        vertical-align: middle;\n",
       "    }\n",
       "\n",
       "    .dataframe tbody tr th {\n",
       "        vertical-align: top;\n",
       "    }\n",
       "\n",
       "    .dataframe thead th {\n",
       "        text-align: right;\n",
       "    }\n",
       "</style>\n",
       "<table border=\"1\" class=\"dataframe\">\n",
       "  <thead>\n",
       "    <tr style=\"text-align: right;\">\n",
       "      <th></th>\n",
       "      <th>Flight</th>\n",
       "      <th>Date</th>\n",
       "    </tr>\n",
       "  </thead>\n",
       "  <tbody>\n",
       "    <tr>\n",
       "      <th>F345D11</th>\n",
       "      <td>921</td>\n",
       "      <td>12/11/2017</td>\n",
       "    </tr>\n",
       "    <tr>\n",
       "      <th>F123D12</th>\n",
       "      <td>114</td>\n",
       "      <td>12/12/2017</td>\n",
       "    </tr>\n",
       "  </tbody>\n",
       "</table>\n",
       "</div>"
      ],
      "text/plain": [
       "         Flight        Date\n",
       "F345D11     921  12/11/2017\n",
       "F123D12     114  12/12/2017"
      ]
     },
     "execution_count": 33,
     "metadata": {},
     "output_type": "execute_result"
    }
   ],
   "source": [
    "ftframe[1:4]"
   ]
  },
  {
   "cell_type": "code",
   "execution_count": 34,
   "metadata": {},
   "outputs": [
    {
     "data": {
      "text/html": [
       "<div>\n",
       "<style scoped>\n",
       "    .dataframe tbody tr th:only-of-type {\n",
       "        vertical-align: middle;\n",
       "    }\n",
       "\n",
       "    .dataframe tbody tr th {\n",
       "        vertical-align: top;\n",
       "    }\n",
       "\n",
       "    .dataframe thead th {\n",
       "        text-align: right;\n",
       "    }\n",
       "</style>\n",
       "<table border=\"1\" class=\"dataframe\">\n",
       "  <thead>\n",
       "    <tr style=\"text-align: right;\">\n",
       "      <th></th>\n",
       "      <th>Flight</th>\n",
       "      <th>Date</th>\n",
       "      <th>Dest</th>\n",
       "      <th>FirstClass</th>\n",
       "      <th>Economy</th>\n",
       "    </tr>\n",
       "  </thead>\n",
       "  <tbody>\n",
       "    <tr>\n",
       "      <th>F921D11</th>\n",
       "      <td>921</td>\n",
       "      <td>12/11/2017</td>\n",
       "      <td>DFW</td>\n",
       "      <td>20</td>\n",
       "      <td>131</td>\n",
       "    </tr>\n",
       "    <tr>\n",
       "      <th>F114D12</th>\n",
       "      <td>114</td>\n",
       "      <td>12/12/2017</td>\n",
       "      <td>LAX</td>\n",
       "      <td>15</td>\n",
       "      <td>170</td>\n",
       "    </tr>\n",
       "    <tr>\n",
       "      <th>F982D12</th>\n",
       "      <td>982</td>\n",
       "      <td>12/12/2017</td>\n",
       "      <td>dfw</td>\n",
       "      <td>5</td>\n",
       "      <td>85</td>\n",
       "    </tr>\n",
       "  </tbody>\n",
       "</table>\n",
       "</div>"
      ],
      "text/plain": [
       "         Flight        Date Dest  FirstClass  Economy\n",
       "F921D11     921  12/11/2017  DFW          20      131\n",
       "F114D12     114  12/12/2017  LAX          15      170\n",
       "F982D12     982  12/12/2017  dfw           5       85"
      ]
     },
     "execution_count": 34,
     "metadata": {},
     "output_type": "execute_result"
    }
   ],
   "source": [
    "ftframe2[1:4]"
   ]
  },
  {
   "cell_type": "code",
   "execution_count": 36,
   "metadata": {},
   "outputs": [
    {
     "data": {
      "text/plain": [
       "Flight               982\n",
       "Date          12/14/2017\n",
       "Dest                 DFW\n",
       "FirstClass             7\n",
       "Economy               88\n",
       "Name: F982D14, dtype: object"
      ]
     },
     "execution_count": 36,
     "metadata": {},
     "output_type": "execute_result"
    }
   ],
   "source": [
    "ftframe2.loc[\"F982D14\"]"
   ]
  },
  {
   "cell_type": "code",
   "execution_count": 37,
   "metadata": {},
   "outputs": [
    {
     "data": {
      "text/html": [
       "<div>\n",
       "<style scoped>\n",
       "    .dataframe tbody tr th:only-of-type {\n",
       "        vertical-align: middle;\n",
       "    }\n",
       "\n",
       "    .dataframe tbody tr th {\n",
       "        vertical-align: top;\n",
       "    }\n",
       "\n",
       "    .dataframe thead th {\n",
       "        text-align: right;\n",
       "    }\n",
       "</style>\n",
       "<table border=\"1\" class=\"dataframe\">\n",
       "  <thead>\n",
       "    <tr style=\"text-align: right;\">\n",
       "      <th></th>\n",
       "      <th>Flight</th>\n",
       "      <th>Date</th>\n",
       "      <th>Dest</th>\n",
       "      <th>FirstClass</th>\n",
       "      <th>Economy</th>\n",
       "    </tr>\n",
       "  </thead>\n",
       "  <tbody>\n",
       "    <tr>\n",
       "      <th>F982D14</th>\n",
       "      <td>982</td>\n",
       "      <td>12/14/2017</td>\n",
       "      <td>DFW</td>\n",
       "      <td>7</td>\n",
       "      <td>88</td>\n",
       "    </tr>\n",
       "  </tbody>\n",
       "</table>\n",
       "</div>"
      ],
      "text/plain": [
       "         Flight        Date Dest  FirstClass  Economy\n",
       "F982D14     982  12/14/2017  DFW           7       88"
      ]
     },
     "execution_count": 37,
     "metadata": {},
     "output_type": "execute_result"
    }
   ],
   "source": [
    "ftframe2.loc[[\"F982D14\"]]"
   ]
  },
  {
   "cell_type": "code",
   "execution_count": 40,
   "metadata": {},
   "outputs": [
    {
     "data": {
      "text/html": [
       "<div>\n",
       "<style scoped>\n",
       "    .dataframe tbody tr th:only-of-type {\n",
       "        vertical-align: middle;\n",
       "    }\n",
       "\n",
       "    .dataframe tbody tr th {\n",
       "        vertical-align: top;\n",
       "    }\n",
       "\n",
       "    .dataframe thead th {\n",
       "        text-align: right;\n",
       "    }\n",
       "</style>\n",
       "<table border=\"1\" class=\"dataframe\">\n",
       "  <thead>\n",
       "    <tr style=\"text-align: right;\">\n",
       "      <th></th>\n",
       "      <th>Flight</th>\n",
       "      <th>Date</th>\n",
       "      <th>Dest</th>\n",
       "      <th>FirstClass</th>\n",
       "      <th>Economy</th>\n",
       "    </tr>\n",
       "  </thead>\n",
       "  <tbody>\n",
       "    <tr>\n",
       "      <th>F439D11</th>\n",
       "      <td>439</td>\n",
       "      <td>12/11/2017</td>\n",
       "      <td>LAX</td>\n",
       "      <td>20</td>\n",
       "      <td>137</td>\n",
       "    </tr>\n",
       "    <tr>\n",
       "      <th>F921D11</th>\n",
       "      <td>921</td>\n",
       "      <td>12/11/2017</td>\n",
       "      <td>DFW</td>\n",
       "      <td>20</td>\n",
       "      <td>131</td>\n",
       "    </tr>\n",
       "    <tr>\n",
       "      <th>F982D12</th>\n",
       "      <td>982</td>\n",
       "      <td>12/12/2017</td>\n",
       "      <td>dfw</td>\n",
       "      <td>5</td>\n",
       "      <td>85</td>\n",
       "    </tr>\n",
       "  </tbody>\n",
       "</table>\n",
       "</div>"
      ],
      "text/plain": [
       "         Flight        Date Dest  FirstClass  Economy\n",
       "F439D11     439  12/11/2017  LAX          20      137\n",
       "F921D11     921  12/11/2017  DFW          20      131\n",
       "F982D12     982  12/12/2017  dfw           5       85"
      ]
     },
     "execution_count": 40,
     "metadata": {},
     "output_type": "execute_result"
    }
   ],
   "source": [
    "ftframe2.iloc[[0,1,3]]"
   ]
  },
  {
   "cell_type": "code",
   "execution_count": 41,
   "metadata": {},
   "outputs": [
    {
     "data": {
      "text/html": [
       "<div>\n",
       "<style scoped>\n",
       "    .dataframe tbody tr th:only-of-type {\n",
       "        vertical-align: middle;\n",
       "    }\n",
       "\n",
       "    .dataframe tbody tr th {\n",
       "        vertical-align: top;\n",
       "    }\n",
       "\n",
       "    .dataframe thead th {\n",
       "        text-align: right;\n",
       "    }\n",
       "</style>\n",
       "<table border=\"1\" class=\"dataframe\">\n",
       "  <thead>\n",
       "    <tr style=\"text-align: right;\">\n",
       "      <th></th>\n",
       "      <th>Dest</th>\n",
       "      <th>Economy</th>\n",
       "    </tr>\n",
       "  </thead>\n",
       "  <tbody>\n",
       "    <tr>\n",
       "      <th>F439D11</th>\n",
       "      <td>LAX</td>\n",
       "      <td>137</td>\n",
       "    </tr>\n",
       "    <tr>\n",
       "      <th>F921D11</th>\n",
       "      <td>DFW</td>\n",
       "      <td>131</td>\n",
       "    </tr>\n",
       "    <tr>\n",
       "      <th>F114D12</th>\n",
       "      <td>LAX</td>\n",
       "      <td>170</td>\n",
       "    </tr>\n",
       "    <tr>\n",
       "      <th>F982D12</th>\n",
       "      <td>dfw</td>\n",
       "      <td>85</td>\n",
       "    </tr>\n",
       "    <tr>\n",
       "      <th>F439D13</th>\n",
       "      <td>LAX</td>\n",
       "      <td>196</td>\n",
       "    </tr>\n",
       "    <tr>\n",
       "      <th>F982D13</th>\n",
       "      <td>DFW</td>\n",
       "      <td>116</td>\n",
       "    </tr>\n",
       "    <tr>\n",
       "      <th>F431D14</th>\n",
       "      <td>LaX</td>\n",
       "      <td>166</td>\n",
       "    </tr>\n",
       "    <tr>\n",
       "      <th>F982D14</th>\n",
       "      <td>DFW</td>\n",
       "      <td>88</td>\n",
       "    </tr>\n",
       "    <tr>\n",
       "      <th>F114D15</th>\n",
       "      <td>LAX</td>\n",
       "      <td>187</td>\n",
       "    </tr>\n",
       "    <tr>\n",
       "      <th>F982D15</th>\n",
       "      <td>DFW</td>\n",
       "      <td>31</td>\n",
       "    </tr>\n",
       "  </tbody>\n",
       "</table>\n",
       "</div>"
      ],
      "text/plain": [
       "        Dest  Economy\n",
       "F439D11  LAX      137\n",
       "F921D11  DFW      131\n",
       "F114D12  LAX      170\n",
       "F982D12  dfw       85\n",
       "F439D13  LAX      196\n",
       "F982D13  DFW      116\n",
       "F431D14  LaX      166\n",
       "F982D14  DFW       88\n",
       "F114D15  LAX      187\n",
       "F982D15  DFW       31"
      ]
     },
     "execution_count": 41,
     "metadata": {},
     "output_type": "execute_result"
    }
   ],
   "source": [
    "ftframe2.iloc[:,[2,4]]"
   ]
  },
  {
   "cell_type": "code",
   "execution_count": 42,
   "metadata": {},
   "outputs": [],
   "source": [
    "ftframe2[\"Length\"]= ftframe2[\"Dest\"].apply(len)"
   ]
  },
  {
   "cell_type": "code",
   "execution_count": 43,
   "metadata": {},
   "outputs": [
    {
     "name": "stdout",
     "output_type": "stream",
     "text": [
      "         Flight        Date Dest  FirstClass  Economy  Length\n",
      "F439D11     439  12/11/2017  LAX          20      137       3\n",
      "F921D11     921  12/11/2017  DFW          20      131       3\n",
      "F114D12     114  12/12/2017  LAX          15      170       3\n",
      "F982D12     982  12/12/2017  dfw           5       85       3\n",
      "F439D13     439  12/13/2017  LAX          14      196       3\n",
      "F982D13     982  12/13/2017  DFW          15      116       3\n",
      "F431D14     431  12/14/2017  LaX          17      166       3\n",
      "F982D14     982  12/14/2017  DFW           7       88       3\n",
      "F114D15     114  12/15/2017  LAX          12      187       3\n",
      "F982D15     982  12/15/2017  DFW          14       31       3\n"
     ]
    }
   ],
   "source": [
    "print(ftframe2)"
   ]
  },
  {
   "cell_type": "code",
   "execution_count": 50,
   "metadata": {},
   "outputs": [],
   "source": [
    "ftframe2[\"abc\"]=4"
   ]
  },
  {
   "cell_type": "code",
   "execution_count": 51,
   "metadata": {},
   "outputs": [
    {
     "name": "stdout",
     "output_type": "stream",
     "text": [
      "         Flight        Date Dest  FirstClass  Economy  Length  abc  total\n",
      "F439D11     439  12/11/2017  LAX          20      137       3    4    157\n",
      "F921D11     921  12/11/2017  DFW          20      131       3    4    151\n",
      "F114D12     114  12/12/2017  LAX          15      170       3    4    185\n",
      "F982D12     982  12/12/2017  dfw           5       85       3    4     90\n",
      "F439D13     439  12/13/2017  LAX          14      196       3    4    210\n",
      "F982D13     982  12/13/2017  DFW          15      116       3    4    131\n",
      "F431D14     431  12/14/2017  LaX          17      166       3    4    183\n",
      "F982D14     982  12/14/2017  DFW           7       88       3    4     95\n",
      "F114D15     114  12/15/2017  LAX          12      187       3    4    199\n",
      "F982D15     982  12/15/2017  DFW          14       31       3    4     45\n"
     ]
    }
   ],
   "source": [
    "print (ftframe2)"
   ]
  },
  {
   "cell_type": "code",
   "execution_count": 52,
   "metadata": {},
   "outputs": [],
   "source": [
    "ftframe2[\"total\"]=ftframe2[\"FirstClass\"]+ftframe2[\"Economy\"]"
   ]
  },
  {
   "cell_type": "code",
   "execution_count": 53,
   "metadata": {},
   "outputs": [
    {
     "name": "stdout",
     "output_type": "stream",
     "text": [
      "         Flight        Date Dest  FirstClass  Economy  Length  abc  total\n",
      "F439D11     439  12/11/2017  LAX          20      137       3    4    157\n",
      "F921D11     921  12/11/2017  DFW          20      131       3    4    151\n",
      "F114D12     114  12/12/2017  LAX          15      170       3    4    185\n",
      "F982D12     982  12/12/2017  dfw           5       85       3    4     90\n",
      "F439D13     439  12/13/2017  LAX          14      196       3    4    210\n",
      "F982D13     982  12/13/2017  DFW          15      116       3    4    131\n",
      "F431D14     431  12/14/2017  LaX          17      166       3    4    183\n",
      "F982D14     982  12/14/2017  DFW           7       88       3    4     95\n",
      "F114D15     114  12/15/2017  LAX          12      187       3    4    199\n",
      "F982D15     982  12/15/2017  DFW          14       31       3    4     45\n"
     ]
    }
   ],
   "source": [
    "print (ftframe2)"
   ]
  },
  {
   "cell_type": "code",
   "execution_count": 54,
   "metadata": {},
   "outputs": [],
   "source": [
    "check=ftframe2[\"FirstClass\"]<10"
   ]
  },
  {
   "cell_type": "code",
   "execution_count": 55,
   "metadata": {},
   "outputs": [
    {
     "data": {
      "text/plain": [
       "pandas.core.series.Series"
      ]
     },
     "execution_count": 55,
     "metadata": {},
     "output_type": "execute_result"
    }
   ],
   "source": [
    "type(check)"
   ]
  },
  {
   "cell_type": "code",
   "execution_count": 56,
   "metadata": {},
   "outputs": [
    {
     "data": {
      "text/html": [
       "<div>\n",
       "<style scoped>\n",
       "    .dataframe tbody tr th:only-of-type {\n",
       "        vertical-align: middle;\n",
       "    }\n",
       "\n",
       "    .dataframe tbody tr th {\n",
       "        vertical-align: top;\n",
       "    }\n",
       "\n",
       "    .dataframe thead th {\n",
       "        text-align: right;\n",
       "    }\n",
       "</style>\n",
       "<table border=\"1\" class=\"dataframe\">\n",
       "  <thead>\n",
       "    <tr style=\"text-align: right;\">\n",
       "      <th></th>\n",
       "      <th>Flight</th>\n",
       "      <th>Date</th>\n",
       "      <th>Dest</th>\n",
       "      <th>FirstClass</th>\n",
       "      <th>Economy</th>\n",
       "      <th>Length</th>\n",
       "      <th>abc</th>\n",
       "      <th>total</th>\n",
       "    </tr>\n",
       "  </thead>\n",
       "  <tbody>\n",
       "    <tr>\n",
       "      <th>F982D12</th>\n",
       "      <td>982</td>\n",
       "      <td>12/12/2017</td>\n",
       "      <td>dfw</td>\n",
       "      <td>5</td>\n",
       "      <td>85</td>\n",
       "      <td>3</td>\n",
       "      <td>4</td>\n",
       "      <td>90</td>\n",
       "    </tr>\n",
       "    <tr>\n",
       "      <th>F982D14</th>\n",
       "      <td>982</td>\n",
       "      <td>12/14/2017</td>\n",
       "      <td>DFW</td>\n",
       "      <td>7</td>\n",
       "      <td>88</td>\n",
       "      <td>3</td>\n",
       "      <td>4</td>\n",
       "      <td>95</td>\n",
       "    </tr>\n",
       "  </tbody>\n",
       "</table>\n",
       "</div>"
      ],
      "text/plain": [
       "         Flight        Date Dest  FirstClass  Economy  Length  abc  total\n",
       "F982D12     982  12/12/2017  dfw           5       85       3    4     90\n",
       "F982D14     982  12/14/2017  DFW           7       88       3    4     95"
      ]
     },
     "execution_count": 56,
     "metadata": {},
     "output_type": "execute_result"
    }
   ],
   "source": [
    "ftframe2[check]"
   ]
  },
  {
   "cell_type": "code",
   "execution_count": 60,
   "metadata": {},
   "outputs": [
    {
     "data": {
      "text/plain": [
       "F439D11    False\n",
       "F921D11    False\n",
       "F114D12     True\n",
       "F982D12    False\n",
       "F439D13     True\n",
       "F982D13    False\n",
       "F431D14     True\n",
       "F982D14    False\n",
       "F114D15     True\n",
       "F982D15    False\n",
       "Name: FirstClass, dtype: bool"
      ]
     },
     "execution_count": 60,
     "metadata": {},
     "output_type": "execute_result"
    }
   ],
   "source": [
    "nu.logical_and(ftframe2[\"FirstClass\"]>=10, ftframe2[\"Economy\"]>160)"
   ]
  },
  {
   "cell_type": "code",
   "execution_count": 85,
   "metadata": {},
   "outputs": [],
   "source": [
    "import numpy as np\n"
   ]
  },
  {
   "cell_type": "code",
   "execution_count": 61,
   "metadata": {},
   "outputs": [],
   "source": [
    "x=0"
   ]
  },
  {
   "cell_type": "code",
   "execution_count": 62,
   "metadata": {},
   "outputs": [
    {
     "name": "stdout",
     "output_type": "stream",
     "text": [
      "1\n",
      "H\n",
      "2\n",
      "H\n",
      "3\n",
      "H\n",
      "4\n",
      "H\n",
      "5\n",
      "H\n",
      "End\n"
     ]
    }
   ],
   "source": [
    "while x<5 :\n",
    "    x=x+1\n",
    "    print(x)\n",
    "    print(\"H\")\n",
    "print(\"End\")"
   ]
  },
  {
   "cell_type": "code",
   "execution_count": 64,
   "metadata": {},
   "outputs": [
    {
     "name": "stdout",
     "output_type": "stream",
     "text": [
      "0\n",
      "1\n",
      "2\n",
      "3\n",
      "4\n",
      "5\n",
      "6\n",
      "7\n",
      "8\n"
     ]
    }
   ],
   "source": [
    "for x in range (9):\n",
    "    print(x)"
   ]
  },
  {
   "cell_type": "code",
   "execution_count": 67,
   "metadata": {},
   "outputs": [
    {
     "data": {
      "text/plain": [
       "F439D11    20\n",
       "F921D11    20\n",
       "F114D12    15\n",
       "F982D12     5\n",
       "F439D13    14\n",
       "F982D13    15\n",
       "F431D14    17\n",
       "F982D14     7\n",
       "F114D15    12\n",
       "F982D15    14\n",
       "Name: FirstClass, dtype: int64"
      ]
     },
     "execution_count": 67,
     "metadata": {},
     "output_type": "execute_result"
    }
   ],
   "source": [
    "FC=ftframe2[\"FirstClass\"]\n",
    "FC"
   ]
  },
  {
   "cell_type": "code",
   "execution_count": 72,
   "metadata": {},
   "outputs": [
    {
     "name": "stdout",
     "output_type": "stream",
     "text": [
      "20\n",
      "20\n",
      "15\n",
      "5\n",
      "14\n",
      "15\n",
      "17\n",
      "7\n",
      "12\n",
      "14\n"
     ]
    }
   ],
   "source": [
    "for x in FC:\n",
    "    print(x)"
   ]
  },
  {
   "cell_type": "code",
   "execution_count": 70,
   "metadata": {},
   "outputs": [
    {
     "name": "stdout",
     "output_type": "stream",
     "text": [
      "20\n",
      "40\n",
      "55\n",
      "60\n",
      "74\n",
      "89\n",
      "106\n",
      "113\n",
      "125\n",
      "139\n",
      "total 139\n"
     ]
    }
   ],
   "source": [
    "t1=0\n",
    "for tot in FC :\n",
    "    t1=t1+tot\n",
    "    print(t1)\n",
    "print(\"total\",t1)"
   ]
  },
  {
   "cell_type": "code",
   "execution_count": 71,
   "metadata": {},
   "outputs": [
    {
     "ename": "NameError",
     "evalue": "name 'capitalize' is not defined",
     "output_type": "error",
     "traceback": [
      "\u001b[1;31m---------------------------------------------------------------------------\u001b[0m",
      "\u001b[1;31mNameError\u001b[0m                                 Traceback (most recent call last)",
      "\u001b[1;32m<ipython-input-71-0db3e97b3726>\u001b[0m in \u001b[0;36m<module>\u001b[1;34m\u001b[0m\n\u001b[0;32m      1\u001b[0m \u001b[1;32mfor\u001b[0m \u001b[0mi\u001b[0m \u001b[1;32min\u001b[0m \u001b[1;34m\"pythinfdhsjhjhjfsjbhjhdjshjfjfjh\"\u001b[0m\u001b[1;33m:\u001b[0m\u001b[1;33m\u001b[0m\u001b[1;33m\u001b[0m\u001b[0m\n\u001b[1;32m----> 2\u001b[1;33m     \u001b[0mprint\u001b[0m\u001b[1;33m(\u001b[0m\u001b[0mi\u001b[0m\u001b[1;33m,\u001b[0m\u001b[0mcapitalize\u001b[0m\u001b[1;33m(\u001b[0m\u001b[1;33m)\u001b[0m\u001b[1;33m)\u001b[0m\u001b[1;33m\u001b[0m\u001b[1;33m\u001b[0m\u001b[0m\n\u001b[0m",
      "\u001b[1;31mNameError\u001b[0m: name 'capitalize' is not defined"
     ]
    }
   ],
   "source": [
    "for i in \"pythinfdhsjhjhjfsjbhjhdjshjfjfjh\":\n",
    "    print(i,capitalize())"
   ]
  },
  {
   "cell_type": "code",
   "execution_count": 75,
   "metadata": {},
   "outputs": [
    {
     "name": "stdout",
     "output_type": "stream",
     "text": [
      "('F439D11', Flight               439\n",
      "Date          12/11/2017\n",
      "Dest                 LAX\n",
      "FirstClass            20\n",
      "Economy              137\n",
      "Length                 3\n",
      "abc                    4\n",
      "total                157\n",
      "Name: F439D11, dtype: object)\n",
      "('F921D11', Flight               921\n",
      "Date          12/11/2017\n",
      "Dest                 DFW\n",
      "FirstClass            20\n",
      "Economy              131\n",
      "Length                 3\n",
      "abc                    4\n",
      "total                151\n",
      "Name: F921D11, dtype: object)\n",
      "('F114D12', Flight               114\n",
      "Date          12/12/2017\n",
      "Dest                 LAX\n",
      "FirstClass            15\n",
      "Economy              170\n",
      "Length                 3\n",
      "abc                    4\n",
      "total                185\n",
      "Name: F114D12, dtype: object)\n",
      "('F982D12', Flight               982\n",
      "Date          12/12/2017\n",
      "Dest                 dfw\n",
      "FirstClass             5\n",
      "Economy               85\n",
      "Length                 3\n",
      "abc                    4\n",
      "total                 90\n",
      "Name: F982D12, dtype: object)\n",
      "('F439D13', Flight               439\n",
      "Date          12/13/2017\n",
      "Dest                 LAX\n",
      "FirstClass            14\n",
      "Economy              196\n",
      "Length                 3\n",
      "abc                    4\n",
      "total                210\n",
      "Name: F439D13, dtype: object)\n",
      "('F982D13', Flight               982\n",
      "Date          12/13/2017\n",
      "Dest                 DFW\n",
      "FirstClass            15\n",
      "Economy              116\n",
      "Length                 3\n",
      "abc                    4\n",
      "total                131\n",
      "Name: F982D13, dtype: object)\n",
      "('F431D14', Flight               431\n",
      "Date          12/14/2017\n",
      "Dest                 LaX\n",
      "FirstClass            17\n",
      "Economy              166\n",
      "Length                 3\n",
      "abc                    4\n",
      "total                183\n",
      "Name: F431D14, dtype: object)\n",
      "('F982D14', Flight               982\n",
      "Date          12/14/2017\n",
      "Dest                 DFW\n",
      "FirstClass             7\n",
      "Economy               88\n",
      "Length                 3\n",
      "abc                    4\n",
      "total                 95\n",
      "Name: F982D14, dtype: object)\n",
      "('F114D15', Flight               114\n",
      "Date          12/15/2017\n",
      "Dest                 LAX\n",
      "FirstClass            12\n",
      "Economy              187\n",
      "Length                 3\n",
      "abc                    4\n",
      "total                199\n",
      "Name: F114D15, dtype: object)\n",
      "('F982D15', Flight               982\n",
      "Date          12/15/2017\n",
      "Dest                 DFW\n",
      "FirstClass            14\n",
      "Economy               31\n",
      "Length                 3\n",
      "abc                    4\n",
      "total                 45\n",
      "Name: F982D15, dtype: object)\n"
     ]
    }
   ],
   "source": [
    "for (Date) in ftframe2.iterrows():\n",
    "    print(Date)"
   ]
  },
  {
   "cell_type": "code",
   "execution_count": 76,
   "metadata": {},
   "outputs": [
    {
     "name": "stdout",
     "output_type": "stream",
     "text": [
      "F439D11\n",
      "Flight               439\n",
      "Date          12/11/2017\n",
      "Dest                 LAX\n",
      "FirstClass            20\n",
      "Economy              137\n",
      "Length                 3\n",
      "abc                    4\n",
      "total                157\n",
      "Name: F439D11, dtype: object\n",
      "F921D11\n",
      "Flight               921\n",
      "Date          12/11/2017\n",
      "Dest                 DFW\n",
      "FirstClass            20\n",
      "Economy              131\n",
      "Length                 3\n",
      "abc                    4\n",
      "total                151\n",
      "Name: F921D11, dtype: object\n",
      "F114D12\n",
      "Flight               114\n",
      "Date          12/12/2017\n",
      "Dest                 LAX\n",
      "FirstClass            15\n",
      "Economy              170\n",
      "Length                 3\n",
      "abc                    4\n",
      "total                185\n",
      "Name: F114D12, dtype: object\n",
      "F982D12\n",
      "Flight               982\n",
      "Date          12/12/2017\n",
      "Dest                 dfw\n",
      "FirstClass             5\n",
      "Economy               85\n",
      "Length                 3\n",
      "abc                    4\n",
      "total                 90\n",
      "Name: F982D12, dtype: object\n",
      "F439D13\n",
      "Flight               439\n",
      "Date          12/13/2017\n",
      "Dest                 LAX\n",
      "FirstClass            14\n",
      "Economy              196\n",
      "Length                 3\n",
      "abc                    4\n",
      "total                210\n",
      "Name: F439D13, dtype: object\n",
      "F982D13\n",
      "Flight               982\n",
      "Date          12/13/2017\n",
      "Dest                 DFW\n",
      "FirstClass            15\n",
      "Economy              116\n",
      "Length                 3\n",
      "abc                    4\n",
      "total                131\n",
      "Name: F982D13, dtype: object\n",
      "F431D14\n",
      "Flight               431\n",
      "Date          12/14/2017\n",
      "Dest                 LaX\n",
      "FirstClass            17\n",
      "Economy              166\n",
      "Length                 3\n",
      "abc                    4\n",
      "total                183\n",
      "Name: F431D14, dtype: object\n",
      "F982D14\n",
      "Flight               982\n",
      "Date          12/14/2017\n",
      "Dest                 DFW\n",
      "FirstClass             7\n",
      "Economy               88\n",
      "Length                 3\n",
      "abc                    4\n",
      "total                 95\n",
      "Name: F982D14, dtype: object\n",
      "F114D15\n",
      "Flight               114\n",
      "Date          12/15/2017\n",
      "Dest                 LAX\n",
      "FirstClass            12\n",
      "Economy              187\n",
      "Length                 3\n",
      "abc                    4\n",
      "total                199\n",
      "Name: F114D15, dtype: object\n",
      "F982D15\n",
      "Flight               982\n",
      "Date          12/15/2017\n",
      "Dest                 DFW\n",
      "FirstClass            14\n",
      "Economy               31\n",
      "Length                 3\n",
      "abc                    4\n",
      "total                 45\n",
      "Name: F982D15, dtype: object\n"
     ]
    }
   ],
   "source": [
    "for i,j in ftframe2.iterrows():\n",
    "    print(i)\n",
    "    # i= index\n",
    "    print(j)\n",
    "    #jidk"
   ]
  },
  {
   "cell_type": "code",
   "execution_count": 78,
   "metadata": {},
   "outputs": [],
   "source": [
    "#nu.mean(hei_wei[2]) or(jdhjhj[:,1])\n",
    "#nu.corrcoef()\n",
    "#nu.std\n",
    "#nu.median()\n",
    "#sum()\n",
    "#sort()\n"
   ]
  },
  {
   "cell_type": "code",
   "execution_count": 89,
   "metadata": {},
   "outputs": [
    {
     "ename": "IndentationError",
     "evalue": "unexpected indent (<ipython-input-89-7ed8725a1d7c>, line 5)",
     "output_type": "error",
     "traceback": [
      "\u001b[1;36m  File \u001b[1;32m\"<ipython-input-89-7ed8725a1d7c>\"\u001b[1;36m, line \u001b[1;32m5\u001b[0m\n\u001b[1;33m    (0,2)--1\u001b[0m\n\u001b[1;37m    ^\u001b[0m\n\u001b[1;31mIndentationError\u001b[0m\u001b[1;31m:\u001b[0m unexpected indent\n"
     ]
    }
   ],
   "source": [
    "#rand num\n",
    "#pkg.ramdom.rand()\n",
    "#pkg.random.seed(seed_no)\n",
    "#pkg.ramdom.randint(start(number),end(index))\n",
    "        (0,2)--1\n",
    "        (1,3)--2\n",
    "#(0),1,2,3,4,5,6,7,8,9\n",
    "#1,(2),3,4,5,6,7,8,9"
   ]
  },
  {
   "cell_type": "code",
   "execution_count": 88,
   "metadata": {},
   "outputs": [
    {
     "data": {
      "text/plain": [
       "0.343345007113508"
      ]
     },
     "execution_count": 88,
     "metadata": {},
     "output_type": "execute_result"
    }
   ],
   "source": [
    "np.random.rand()"
   ]
  },
  {
   "cell_type": "code",
   "execution_count": 90,
   "metadata": {},
   "outputs": [
    {
     "data": {
      "text/plain": [
       "7"
      ]
     },
     "execution_count": 90,
     "metadata": {},
     "output_type": "execute_result"
    }
   ],
   "source": [
    "np.random.randint(0,15)"
   ]
  },
  {
   "cell_type": "code",
   "execution_count": 91,
   "metadata": {},
   "outputs": [
    {
     "ename": "SyntaxError",
     "evalue": "invalid syntax (<ipython-input-91-234890941052>, line 4)",
     "output_type": "error",
     "traceback": [
      "\u001b[1;36m  File \u001b[1;32m\"<ipython-input-91-234890941052>\"\u001b[1;36m, line \u001b[1;32m4\u001b[0m\n\u001b[1;33m    if ht=\u001b[0m\n\u001b[1;37m         ^\u001b[0m\n\u001b[1;31mSyntaxError\u001b[0m\u001b[1;31m:\u001b[0m invalid syntax\n"
     ]
    }
   ],
   "source": [
    "nu.random.seed(123)\n",
    "ht=nu.random.randint(0,2)\n",
    "outcomes=[]\n",
    "if ht= "
   ]
  },
  {
   "cell_type": "code",
   "execution_count": 93,
   "metadata": {},
   "outputs": [
    {
     "ename": "NameError",
     "evalue": "name 'mean' is not defined",
     "output_type": "error",
     "traceback": [
      "\u001b[1;31m---------------------------------------------------------------------------\u001b[0m",
      "\u001b[1;31mNameError\u001b[0m                                 Traceback (most recent call last)",
      "\u001b[1;32m<ipython-input-93-ff89ee5a685a>\u001b[0m in \u001b[0;36m<module>\u001b[1;34m\u001b[0m\n\u001b[0;32m      1\u001b[0m \u001b[1;32mimport\u001b[0m \u001b[0mnumpy\u001b[0m \u001b[1;32mas\u001b[0m \u001b[0mnu\u001b[0m\u001b[1;33m\u001b[0m\u001b[1;33m\u001b[0m\u001b[0m\n\u001b[1;32m----> 2\u001b[1;33m \u001b[0mheli\u001b[0m\u001b[1;33m=\u001b[0m\u001b[0mnu\u001b[0m\u001b[1;33m.\u001b[0m\u001b[0mrandom\u001b[0m\u001b[1;33m.\u001b[0m\u001b[0mnormal\u001b[0m\u001b[1;33m(\u001b[0m\u001b[0mmean\u001b[0m\u001b[1;33m)\u001b[0m\u001b[1;33m\u001b[0m\u001b[1;33m\u001b[0m\u001b[0m\n\u001b[0m",
      "\u001b[1;31mNameError\u001b[0m: name 'mean' is not defined"
     ]
    }
   ],
   "source": [
    "import numpy as nu\n",
    "heli=nu.random.normal(mean)"
   ]
  },
  {
   "cell_type": "code",
   "execution_count": null,
   "metadata": {},
   "outputs": [],
   "source": []
  }
 ],
 "metadata": {
  "kernelspec": {
   "display_name": "Python 3",
   "language": "python",
   "name": "python3"
  },
  "language_info": {
   "codemirror_mode": {
    "name": "ipython",
    "version": 3
   },
   "file_extension": ".py",
   "mimetype": "text/x-python",
   "name": "python",
   "nbconvert_exporter": "python",
   "pygments_lexer": "ipython3",
   "version": "3.7.3"
  }
 },
 "nbformat": 4,
 "nbformat_minor": 2
}
